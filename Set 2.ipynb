{
 "cells": [
  {
   "cell_type": "markdown",
   "id": "f20ff5fa",
   "metadata": {},
   "source": [
    "# Q1"
   ]
  },
  {
   "cell_type": "code",
   "execution_count": 1,
   "id": "dc0a69f3",
   "metadata": {
    "ExecuteTime": {
     "end_time": "2022-12-22T05:51:13.511351Z",
     "start_time": "2022-12-22T05:51:11.961345Z"
    }
   },
   "outputs": [
    {
     "data": {
      "text/plain": [
       "1.0"
      ]
     },
     "execution_count": 1,
     "metadata": {},
     "output_type": "execute_result"
    }
   ],
   "source": [
    "from scipy import stats\n",
    "stats.norm.cdf(45,8)"
   ]
  },
  {
   "cell_type": "code",
   "execution_count": 2,
   "id": "06dd05c3",
   "metadata": {
    "ExecuteTime": {
     "end_time": "2022-12-22T05:51:40.733880Z",
     "start_time": "2022-12-22T05:51:40.701511Z"
    }
   },
   "outputs": [
    {
     "data": {
      "text/plain": [
       "0.26598552904870054"
      ]
     },
     "execution_count": 2,
     "metadata": {},
     "output_type": "execute_result"
    }
   ],
   "source": [
    "1-stats.norm.cdf(50,45,8)"
   ]
  },
  {
   "cell_type": "markdown",
   "id": "91c5e99c",
   "metadata": {},
   "source": [
    "# Q2"
   ]
  },
  {
   "cell_type": "code",
   "execution_count": 4,
   "id": "15003d55",
   "metadata": {
    "ExecuteTime": {
     "end_time": "2022-12-22T05:55:28.156901Z",
     "start_time": "2022-12-22T05:55:28.136300Z"
    }
   },
   "outputs": [
    {
     "data": {
      "text/plain": [
       "0.15865525393145707"
      ]
     },
     "execution_count": 4,
     "metadata": {},
     "output_type": "execute_result"
    }
   ],
   "source": [
    "#option a\n",
    "#p(X>44)\n",
    "1-stats.norm.cdf(44,38,6)"
   ]
  },
  {
   "cell_type": "code",
   "execution_count": 5,
   "id": "7d043dfb",
   "metadata": {
    "ExecuteTime": {
     "end_time": "2022-12-22T05:56:49.349075Z",
     "start_time": "2022-12-22T05:56:49.332418Z"
    }
   },
   "outputs": [
    {
     "data": {
      "text/plain": [
       "0.3413447460685429"
      ]
     },
     "execution_count": 5,
     "metadata": {},
     "output_type": "execute_result"
    }
   ],
   "source": [
    "#between 38 and 44\n",
    "stats.norm.cdf(44,38,6)-stats.norm.cdf(38,38,6)"
   ]
  },
  {
   "cell_type": "code",
   "execution_count": 6,
   "id": "e8490bf5",
   "metadata": {
    "ExecuteTime": {
     "end_time": "2022-12-22T05:58:27.382823Z",
     "start_time": "2022-12-22T05:58:27.354292Z"
    }
   },
   "outputs": [
    {
     "data": {
      "text/plain": [
       "0.2782301204558958"
      ]
     },
     "execution_count": 6,
     "metadata": {},
     "output_type": "execute_result"
    }
   ],
   "source": [
    "#option b \n",
    "stats.norm.cdf(36,38,6)-stats.norm.cdf(30,38,6)"
   ]
  },
  {
   "cell_type": "markdown",
   "id": "54def256",
   "metadata": {},
   "source": [
    "# Q4"
   ]
  },
  {
   "cell_type": "code",
   "execution_count": 7,
   "id": "ff02be25",
   "metadata": {
    "ExecuteTime": {
     "end_time": "2022-12-22T06:40:26.962195Z",
     "start_time": "2022-12-22T06:40:26.930291Z"
    }
   },
   "outputs": [],
   "source": [
    "from scipy import stats\n",
    "from scipy.stats import norm"
   ]
  },
  {
   "cell_type": "code",
   "execution_count": 8,
   "id": "a33a5faf",
   "metadata": {
    "ExecuteTime": {
     "end_time": "2022-12-22T06:40:29.818158Z",
     "start_time": "2022-12-22T06:40:29.768812Z"
    }
   },
   "outputs": [
    {
     "data": {
      "text/plain": [
       "(48.48341392902199, 151.516586070978)"
      ]
     },
     "execution_count": 8,
     "metadata": {},
     "output_type": "execute_result"
    }
   ],
   "source": [
    "stats.norm.interval(0.99,100,20)"
   ]
  },
  {
   "cell_type": "code",
   "execution_count": null,
   "id": "a4832fb6",
   "metadata": {},
   "outputs": [],
   "source": []
  },
  {
   "cell_type": "markdown",
   "id": "a3c6662a",
   "metadata": {},
   "source": [
    "# Q5"
   ]
  },
  {
   "cell_type": "code",
   "execution_count": 1,
   "id": "9a587ccb",
   "metadata": {
    "ExecuteTime": {
     "end_time": "2022-12-27T13:15:04.323792Z",
     "start_time": "2022-12-27T13:15:04.286325Z"
    }
   },
   "outputs": [],
   "source": [
    "#new mean and variance\n",
    "#if we combine profit1 ~ N(5, 3^2) and profit2 ~ N(7, 4^2) we get N(12, 5^2)\n",
    "#so new mean = 12 and sd = 5"
   ]
  },
  {
   "cell_type": "code",
   "execution_count": 2,
   "id": "3d66e808",
   "metadata": {
    "ExecuteTime": {
     "end_time": "2022-12-27T13:17:15.976712Z",
     "start_time": "2022-12-27T13:17:15.918069Z"
    }
   },
   "outputs": [
    {
     "data": {
      "text/plain": [
       "540"
      ]
     },
     "execution_count": 2,
     "metadata": {},
     "output_type": "execute_result"
    }
   ],
   "source": [
    "#to convert it into rupees given 1$ = 45rupees then\n",
    "#mean\n",
    "12*45"
   ]
  },
  {
   "cell_type": "code",
   "execution_count": 3,
   "id": "3b78309a",
   "metadata": {
    "ExecuteTime": {
     "end_time": "2022-12-27T13:17:32.257395Z",
     "start_time": "2022-12-27T13:17:32.243666Z"
    }
   },
   "outputs": [
    {
     "data": {
      "text/plain": [
       "225"
      ]
     },
     "execution_count": 3,
     "metadata": {},
     "output_type": "execute_result"
    }
   ],
   "source": [
    "#sd\n",
    "5*45"
   ]
  },
  {
   "cell_type": "markdown",
   "id": "4aa24d6c",
   "metadata": {},
   "source": [
    "# a"
   ]
  },
  {
   "cell_type": "code",
   "execution_count": 4,
   "id": "b853e380",
   "metadata": {
    "ExecuteTime": {
     "end_time": "2022-12-27T13:18:58.994496Z",
     "start_time": "2022-12-27T13:18:58.973659Z"
    }
   },
   "outputs": [],
   "source": [
    "from scipy import stats\n",
    "from scipy.stats import norm "
   ]
  },
  {
   "cell_type": "code",
   "execution_count": 5,
   "id": "6bd6414a",
   "metadata": {
    "ExecuteTime": {
     "end_time": "2022-12-27T13:19:23.572962Z",
     "start_time": "2022-12-27T13:19:23.542456Z"
    }
   },
   "outputs": [
    {
     "data": {
      "text/plain": [
       "(99.00810347848784, 980.9918965215122)"
      ]
     },
     "execution_count": 5,
     "metadata": {},
     "output_type": "execute_result"
    }
   ],
   "source": [
    "stats.norm.interval(0.95, 540, 225)"
   ]
  },
  {
   "cell_type": "markdown",
   "id": "5eed9cb1",
   "metadata": {},
   "source": [
    "# b"
   ]
  },
  {
   "cell_type": "code",
   "execution_count": 7,
   "id": "485e8972",
   "metadata": {
    "ExecuteTime": {
     "end_time": "2022-12-27T13:30:42.597312Z",
     "start_time": "2022-12-27T13:30:42.573834Z"
    }
   },
   "outputs": [],
   "source": [
    "#We have the formula for percentile value\n",
    "#percentile value = µ+zσ\n",
    "#we know the value of z at 5th percentile i.e., z = -1.645\n",
    "#and mean = 540, sd = 225"
   ]
  },
  {
   "cell_type": "code",
   "execution_count": 8,
   "id": "047333fe",
   "metadata": {
    "ExecuteTime": {
     "end_time": "2022-12-27T13:31:21.434343Z",
     "start_time": "2022-12-27T13:31:21.406743Z"
    }
   },
   "outputs": [
    {
     "data": {
      "text/plain": [
       "169.875"
      ]
     },
     "execution_count": 8,
     "metadata": {},
     "output_type": "execute_result"
    }
   ],
   "source": [
    "#percentile value\n",
    "540+(-1.645*225)"
   ]
  },
  {
   "cell_type": "markdown",
   "id": "1dd87656",
   "metadata": {},
   "source": [
    "# c"
   ]
  },
  {
   "cell_type": "code",
   "execution_count": 9,
   "id": "eb64e95e",
   "metadata": {
    "ExecuteTime": {
     "end_time": "2022-12-27T13:33:21.879529Z",
     "start_time": "2022-12-27T13:33:21.855003Z"
    }
   },
   "outputs": [
    {
     "data": {
      "text/plain": [
       "0.0477903522728147"
      ]
     },
     "execution_count": 9,
     "metadata": {},
     "output_type": "execute_result"
    }
   ],
   "source": [
    "stats.norm.cdf(0, 5, 3)"
   ]
  },
  {
   "cell_type": "code",
   "execution_count": 10,
   "id": "63046bed",
   "metadata": {
    "ExecuteTime": {
     "end_time": "2022-12-27T13:33:35.072991Z",
     "start_time": "2022-12-27T13:33:35.047984Z"
    }
   },
   "outputs": [
    {
     "data": {
      "text/plain": [
       "0.040059156863817086"
      ]
     },
     "execution_count": 10,
     "metadata": {},
     "output_type": "execute_result"
    }
   ],
   "source": [
    "stats.norm.cdf(0, 7, 4)"
   ]
  },
  {
   "cell_type": "code",
   "execution_count": null,
   "id": "60c077db",
   "metadata": {},
   "outputs": [],
   "source": []
  }
 ],
 "metadata": {
  "kernelspec": {
   "display_name": "Python 3 (ipykernel)",
   "language": "python",
   "name": "python3"
  },
  "language_info": {
   "codemirror_mode": {
    "name": "ipython",
    "version": 3
   },
   "file_extension": ".py",
   "mimetype": "text/x-python",
   "name": "python",
   "nbconvert_exporter": "python",
   "pygments_lexer": "ipython3",
   "version": "3.9.13"
  }
 },
 "nbformat": 4,
 "nbformat_minor": 5
}
